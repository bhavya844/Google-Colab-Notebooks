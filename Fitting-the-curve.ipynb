{
  "nbformat": 4,
  "nbformat_minor": 0,
  "metadata": {
    "colab": {
      "provenance": []
    },
    "kernelspec": {
      "name": "python3",
      "display_name": "Python 3"
    },
    "language_info": {
      "name": "python"
    },
    "accelerator": "GPU",
    "gpuClass": "standard"
  },
  "cells": [
    {
      "cell_type": "code",
      "source": [
        "# Importing necessary modules"
      ],
      "metadata": {
        "id": "ttrNj-HTZ7YP"
      },
      "execution_count": null,
      "outputs": []
    },
    {
      "cell_type": "code",
      "source": [
        "from sklearn.preprocessing import PolynomialFeatures\n",
        "import numpy as np\n",
        "import matplotlib.pyplot as plt\n",
        "from tensorflow.keras.layers import Input, Dense\n",
        "from tensorflow.keras.models import Model\n",
        "from tensorflow.keras.optimizers import Adam"
      ],
      "metadata": {
        "id": "9PnUtm_tunGE"
      },
      "execution_count": null,
      "outputs": []
    },
    {
      "cell_type": "code",
      "source": [
        "import tensorflow as tf\n",
        "x=tf.range(0,500,1)\n",
        "y=4*(x**3) + 2*x + 150\n",
        "plt.plot(x,y)"
      ],
      "metadata": {
        "colab": {
          "base_uri": "https://localhost:8080/",
          "height": 293
        },
        "id": "tVmybtzruPI-",
        "outputId": "7316b89b-4cae-412f-c065-8bb514f08d24"
      },
      "execution_count": null,
      "outputs": [
        {
          "output_type": "execute_result",
          "data": {
            "text/plain": [
              "[<matplotlib.lines.Line2D at 0x7f2ec1e47580>]"
            ]
          },
          "metadata": {},
          "execution_count": 90
        },
        {
          "output_type": "display_data",
          "data": {
            "text/plain": [
              "<Figure size 432x288 with 1 Axes>"
            ],
            "image/png": "[encoded data removed]"
          },
          "metadata": {
            "needs_background": "light"
          }
        }
      ]
    },
    {
      "cell_type": "code",
      "source": [
        "length=len(x)*0.8\n",
        "length"
      ],
      "metadata": {
        "colab": {
          "base_uri": "https://localhost:8080/"
        },
        "id": "6GZFJCOzK5EG",
        "outputId": "df5f7e06-2141-42fb-a05e-ba8e10ebff75"
      },
      "execution_count": null,
      "outputs": [
        {
          "output_type": "execute_result",
          "data": {
            "text/plain": [
              "400.0"
            ]
          },
          "metadata": {},
          "execution_count": 91
        }
      ]
    },
    {
      "cell_type": "code",
      "source": [
        "# Finding the max in the x and y respectively\n",
        "\n",
        "max_x=np.max(x)\n",
        "max_y=np.max(y)\n",
        "\n",
        "# Splitting the data into train and test sets\n",
        "\n",
        "x_train=x[:400]\n",
        "x_test=x[400:]\n",
        "\n",
        "y_train=y[:400]\n",
        "y_test=y[400:]\n"
      ],
      "metadata": {
        "id": "jBVmsGb8_75A"
      },
      "execution_count": null,
      "outputs": []
    },
    {
      "cell_type": "code",
      "source": [
        "# Normalizing the entire data\n",
        "\n",
        "x_normalized = x/max(x)\n",
        "y_normalized = y/max(y)"
      ],
      "metadata": {
        "id": "LBJ3m_Xyu_ED"
      },
      "execution_count": null,
      "outputs": []
    },
    {
      "cell_type": "code",
      "source": [
        "# Splitting the normalized data into training and testing sets\n",
        "\n",
        "x_train_normalized=x_normalized[:400]\n",
        "y_train_normalized=y_normalized[:400]\n",
        "x_test_normalized=x_normalized[400:]\n",
        "y_test_normalized=y_normalized[400:]"
      ],
      "metadata": {
        "id": "hOiMKMtZujQx"
      },
      "execution_count": null,
      "outputs": []
    },
    {
      "cell_type": "code",
      "source": [
        "# General plotting of the function\n",
        "\n",
        "plt.plot(x_train,y_train,c='red',label='Train Data')\n",
        "plt.plot(x_test,y_test,c='blue',label='Test Data')\n",
        "plt.legend()"
      ],
      "metadata": {
        "colab": {
          "base_uri": "https://localhost:8080/",
          "height": 293
        },
        "id": "dVbnILKbLymc",
        "outputId": "1825704f-23c1-482a-e0a6-5fd0105eab02"
      },
      "execution_count": null,
      "outputs": [
        {
          "output_type": "execute_result",
          "data": {
            "text/plain": [
              "<matplotlib.legend.Legend at 0x7f2ec1e3caf0>"
            ]
          },
          "metadata": {},
          "execution_count": 95
        },
        {
          "output_type": "display_data",
          "data": {
            "text/plain": [
              "<Figure size 432x288 with 1 Axes>"
            ],
            "image/png": "[encoded data removed]"
          },
          "metadata": {
            "needs_background": "light"
          }
        }
      ]
    },
    {
      "cell_type": "code",
      "source": [
        "# Creating function for creating checkpoints for the models\n",
        "# path = './checkpoints/model0.ckpt'\n",
        "# def model_cp_create(model_name):\n",
        "#   return tf.keras.callbacks.ModelCheckpoint(filepath=path,\n",
        "#                                            monitor='loss',\n",
        "#                                            save_best_only=True,\n",
        "#                                            save_weights_only=True,\n",
        "#                                            verbose=0)\n",
        "\n",
        "def model_cp_create(model_name):\n",
        "  return tf.keras.callbacks.ModelCheckpoint(filepath=f'Models/{model_name}',\n",
        "                                           monitor='loss',\n",
        "                                           save_best_only=True,\n",
        "                                           save_weights_only=True,\n",
        "                                           verbose=0)\n",
        "\n",
        "# creating a tensorboard callback function\n",
        "\n",
        "import datetime\n",
        "def create_tensorboard_callback(dir_name, experiment_name):\n",
        "  log_dir = dir_name + \"/\" + experiment_name + \"/\" + datetime.datetime.now().strftime(\"%Y%m%d-%H%M%S\")\n",
        "  tensorboard_callback = tf.keras.callbacks.TensorBoard(\n",
        "      log_dir=log_dir\n",
        "  )\n",
        "  print(f\"Saving TensorBoard log files to: {log_dir}\")\n",
        "  return tensorboard_callback"
      ],
      "metadata": {
        "id": "FRDjz5VvwWT4"
      },
      "execution_count": null,
      "outputs": []
    },
    {
      "cell_type": "code",
      "source": [
        "# Training the model on x_train and x_test data which hasn't been normalized\n",
        "\n",
        "model_0 = tf.keras.Sequential([\n",
        "    tf.keras.layers.Dense(10, activation='relu', input_shape=(1,)),\n",
        "    tf.keras.layers.Dense(1)\n",
        "])\n",
        "\n",
        "# Compile the model with mean squared error as the loss function and Adam optimizer\n",
        "model_0.compile(optimizer=tf.keras.optimizers.Adam(learning_rate=0.01), loss='mse')\n",
        "\n",
        "# Train the model\n",
        "histroy_0=model_0.fit(x_train, y_train, epochs=100, batch_size=32,\n",
        "            callbacks=[create_tensorboard_callback(\"Trained_Models\", \"Model_0\"),\n",
        "                                   model_cp_create(model_name='model_0')])\n",
        "\n"
      ],
      "metadata": {
        "colab": {
          "base_uri": "https://localhost:8080/"
        },
        "id": "Bn5AGzoqGuMx",
        "outputId": "cd87ec70-2dd2-464c-ccba-dc05205102f1"
      },
      "execution_count": null,
      "outputs": [
        {
          "output_type": "stream",
          "name": "stdout",
          "text": [
            "Saving TensorBoard log files to: Trained_Models/Model_0/20230323-111216\n",
            "Epoch 1/100\n",
            "13/13 [==============================] - 1s 5ms/step - loss: 9280657674993664.0000\n",
            "Epoch 2/100\n",
            "13/13 [==============================] - 0s 5ms/step - loss: 9280637273899008.0000\n",
            "Epoch 3/100\n",
            "13/13 [==============================] - 0s 4ms/step - loss: 9280609356611584.0000\n",
            "Epoch 4/100\n",
            "13/13 [==============================] - 0s 4ms/step - loss: 9280571775647744.0000\n",
            "Epoch 5/100\n",
            "13/13 [==============================] - 0s 5ms/step - loss: 9280524531007488.0000\n",
            "Epoch 6/100\n",
            "13/13 [==============================] - 0s 4ms/step - loss: 9280462253981696.0000\n",
            "Epoch 7/100\n",
            "13/13 [==============================] - 0s 4ms/step - loss: 9280384944570368.0000\n",
            "Epoch 8/100\n",
            "13/13 [==============================] - 0s 4ms/step - loss: 9280287234064384.0000\n",
            "Epoch 9/100\n",
            "13/13 [==============================] - 0s 4ms/step - loss: 9280172343689216.0000\n",
            "Epoch 10/100\n",
            "13/13 [==============================] - 0s 7ms/step - loss: 9280037052219392.0000\n",
            "Epoch 11/100\n",
            "13/13 [==============================] - 0s 6ms/step - loss: 9279881359654912.0000\n",
            "Epoch 12/100\n",
            "13/13 [==============================] - 0s 6ms/step - loss: 9279712782188544.0000\n",
            "Epoch 13/100\n",
            "13/13 [==============================] - 0s 7ms/step - loss: 9279522729885696.0000\n",
            "Epoch 14/100\n",
            "13/13 [==============================] - 0s 7ms/step - loss: 9279314423971840.0000\n",
            "Epoch 15/100\n",
            "13/13 [==============================] - 0s 7ms/step - loss: 9279087864446976.0000\n",
            "Epoch 16/100\n",
            "13/13 [==============================] - 0s 6ms/step - loss: 9278844125052928.0000\n",
            "Epoch 17/100\n",
            "13/13 [==============================] - 0s 7ms/step - loss: 9278581058306048.0000\n",
            "Epoch 18/100\n",
            "13/13 [==============================] - 0s 6ms/step - loss: 9278300811689984.0000\n",
            "Epoch 19/100\n",
            "13/13 [==============================] - 0s 6ms/step - loss: 9278006606430208.0000\n",
            "Epoch 20/100\n",
            "13/13 [==============================] - 0s 6ms/step - loss: 9277690926333952.0000\n",
            "Epoch 21/100\n",
            "13/13 [==============================] - 0s 6ms/step - loss: 9277353771401216.0000\n",
            "Epoch 22/100\n",
            "13/13 [==============================] - 0s 6ms/step - loss: 9277006952792064.0000\n",
            "Epoch 23/100\n",
            "13/13 [==============================] - 0s 6ms/step - loss: 9276634364379136.0000\n",
            "Epoch 24/100\n",
            "13/13 [==============================] - 0s 7ms/step - loss: 9276247817322496.0000\n",
            "Epoch 25/100\n",
            "13/13 [==============================] - 0s 6ms/step - loss: 9275841942913024.0000\n",
            "Epoch 26/100\n",
            "13/13 [==============================] - 0s 6ms/step - loss: 9275422109859840.0000\n",
            "Epoch 27/100\n",
            "13/13 [==============================] - 0s 7ms/step - loss: 9274973285777408.0000\n",
            "Epoch 28/100\n",
            "13/13 [==============================] - 0s 6ms/step - loss: 9274516945502208.0000\n",
            "Epoch 29/100\n",
            "13/13 [==============================] - 0s 4ms/step - loss: 9274047720325120.0000\n",
            "Epoch 30/100\n",
            "13/13 [==============================] - 0s 4ms/step - loss: 9273557020311552.0000\n",
            "Epoch 31/100\n",
            "13/13 [==============================] - 0s 4ms/step - loss: 9273050214170624.0000\n",
            "Epoch 32/100\n",
            "13/13 [==============================] - 0s 4ms/step - loss: 9272515490742272.0000\n",
            "Epoch 33/100\n",
            "13/13 [==============================] - 0s 5ms/step - loss: 9271976472346624.0000\n",
            "Epoch 34/100\n",
            "13/13 [==============================] - 0s 4ms/step - loss: 9271420274081792.0000\n",
            "Epoch 35/100\n",
            "13/13 [==============================] - 0s 4ms/step - loss: 9270844748464128.0000\n",
            "Epoch 36/100\n",
            "13/13 [==============================] - 0s 4ms/step - loss: 9270248821751808.0000\n",
            "Epoch 37/100\n",
            "13/13 [==============================] - 0s 4ms/step - loss: 9269653968781312.0000\n",
            "Epoch 38/100\n",
            "13/13 [==============================] - 0s 5ms/step - loss: 9269025829814272.0000\n",
            "Epoch 39/100\n",
            "13/13 [==============================] - 0s 6ms/step - loss: 9268361183625216.0000\n",
            "Epoch 40/100\n",
            "13/13 [==============================] - 0s 4ms/step - loss: 9267726602207232.0000\n",
            "Epoch 41/100\n",
            "13/13 [==============================] - 0s 4ms/step - loss: 9267041554923520.0000\n",
            "Epoch 42/100\n",
            "13/13 [==============================] - 0s 4ms/step - loss: 9266344696479744.0000\n",
            "Epoch 43/100\n",
            "13/13 [==============================] - 0s 4ms/step - loss: 9265627436941312.0000\n",
            "Epoch 44/100\n",
            "13/13 [==============================] - 0s 4ms/step - loss: 9264905882435584.0000\n",
            "Epoch 45/100\n",
            "13/13 [==============================] - 0s 4ms/step - loss: 9264191844122624.0000\n",
            "Epoch 46/100\n",
            "13/13 [==============================] - 0s 4ms/step - loss: 9263411233816576.0000\n",
            "Epoch 47/100\n",
            "13/13 [==============================] - 0s 4ms/step - loss: 9262628476026880.0000\n",
            "Epoch 48/100\n",
            "13/13 [==============================] - 0s 4ms/step - loss: 9261870414299136.0000\n",
            "Epoch 49/100\n",
            "13/13 [==============================] - 0s 5ms/step - loss: 9261040411869184.0000\n",
            "Epoch 50/100\n",
            "13/13 [==============================] - 0s 5ms/step - loss: 9260227589308416.0000\n",
            "Epoch 51/100\n",
            "13/13 [==============================] - 0s 4ms/step - loss: 9259399734362112.0000\n",
            "Epoch 52/100\n",
            "13/13 [==============================] - 0s 4ms/step - loss: 9258549330837504.0000\n",
            "Epoch 53/100\n",
            "13/13 [==============================] - 0s 4ms/step - loss: 9257705369763840.0000\n",
            "Epoch 54/100\n",
            "13/13 [==============================] - 0s 5ms/step - loss: 9256809869082624.0000\n",
            "Epoch 55/100\n",
            "13/13 [==============================] - 0s 5ms/step - loss: 9255935843237888.0000\n",
            "Epoch 56/100\n",
            "13/13 [==============================] - 0s 4ms/step - loss: 9255044637523968.0000\n",
            "Epoch 57/100\n",
            "13/13 [==============================] - 0s 5ms/step - loss: 9254164169228288.0000\n",
            "Epoch 58/100\n",
            "13/13 [==============================] - 0s 4ms/step - loss: 9253201022812160.0000\n",
            "Epoch 59/100\n",
            "13/13 [==============================] - 0s 5ms/step - loss: 9252279752327168.0000\n",
            "Epoch 60/100\n",
            "13/13 [==============================] - 0s 5ms/step - loss: 9251314458427392.0000\n",
            "Epoch 61/100\n",
            "13/13 [==============================] - 0s 4ms/step - loss: 9250366344396800.0000\n",
            "Epoch 62/100\n",
            "13/13 [==============================] - 0s 4ms/step - loss: 9249362395791360.0000\n",
            "Epoch 63/100\n",
            "13/13 [==============================] - 0s 4ms/step - loss: 9248369184604160.0000\n",
            "Epoch 64/100\n",
            "13/13 [==============================] - 0s 4ms/step - loss: 9247326581293056.0000\n",
            "Epoch 65/100\n",
            "13/13 [==============================] - 0s 4ms/step - loss: 9246300084109312.0000\n",
            "Epoch 66/100\n",
            "13/13 [==============================] - 0s 4ms/step - loss: 9245251038347264.0000\n",
            "Epoch 67/100\n",
            "13/13 [==============================] - 0s 5ms/step - loss: 9244206287552512.0000\n",
            "Epoch 68/100\n",
            "13/13 [==============================] - 0s 4ms/step - loss: 9243127177019392.0000\n",
            "Epoch 69/100\n",
            "13/13 [==============================] - 0s 5ms/step - loss: 9242054508937216.0000\n",
            "Epoch 70/100\n",
            "13/13 [==============================] - 0s 4ms/step - loss: 9240973250920448.0000\n",
            "Epoch 71/100\n",
            "13/13 [==============================] - 0s 5ms/step - loss: 9239867296841728.0000\n",
            "Epoch 72/100\n",
            "13/13 [==============================] - 0s 4ms/step - loss: 9238706581929984.0000\n",
            "Epoch 73/100\n",
            "13/13 [==============================] - 0s 5ms/step - loss: 9237564120629248.0000\n",
            "Epoch 74/100\n",
            "13/13 [==============================] - 0s 5ms/step - loss: 9236423806812160.0000\n",
            "Epoch 75/100\n",
            "13/13 [==============================] - 0s 5ms/step - loss: 9235260944416768.0000\n",
            "Epoch 76/100\n",
            "13/13 [==============================] - 0s 4ms/step - loss: 9234080902152192.0000\n",
            "Epoch 77/100\n",
            "13/13 [==============================] - 0s 4ms/step - loss: 9232907302338560.0000\n",
            "Epoch 78/100\n",
            "13/13 [==============================] - 0s 5ms/step - loss: 9231692900335616.0000\n",
            "Epoch 79/100\n",
            "13/13 [==============================] - 0s 4ms/step - loss: 9230428032466944.0000\n",
            "Epoch 80/100\n",
            "13/13 [==============================] - 0s 5ms/step - loss: 9229223294140416.0000\n",
            "Epoch 81/100\n",
            "13/13 [==============================] - 0s 4ms/step - loss: 9227971311173632.0000\n",
            "Epoch 82/100\n",
            "13/13 [==============================] - 0s 4ms/step - loss: 9226719328206848.0000\n",
            "Epoch 83/100\n",
            "13/13 [==============================] - 0s 4ms/step - loss: 9225425469308928.0000\n",
            "Epoch 84/100\n",
            "13/13 [==============================] - 0s 4ms/step - loss: 9224140200345600.0000\n",
            "Epoch 85/100\n",
            "13/13 [==============================] - 0s 5ms/step - loss: 9222873184993280.0000\n",
            "Epoch 86/100\n",
            "13/13 [==============================] - 0s 5ms/step - loss: 9221497721716736.0000\n",
            "Epoch 87/100\n",
            "13/13 [==============================] - 0s 5ms/step - loss: 9220179166756864.0000\n",
            "Epoch 88/100\n",
            "13/13 [==============================] - 0s 4ms/step - loss: 9218799408513024.0000\n",
            "Epoch 89/100\n",
            "13/13 [==============================] - 0s 4ms/step - loss: 9217447567556608.0000\n",
            "Epoch 90/100\n",
            "13/13 [==============================] - 0s 4ms/step - loss: 9216058145636352.0000\n",
            "Epoch 91/100\n",
            "13/13 [==============================] - 0s 5ms/step - loss: 9214642953912320.0000\n",
            "Epoch 92/100\n",
            "13/13 [==============================] - 0s 4ms/step - loss: 9213264269410304.0000\n",
            "Epoch 93/100\n",
            "13/13 [==============================] - 0s 4ms/step - loss: 9211855520137216.0000\n",
            "Epoch 94/100\n",
            "13/13 [==============================] - 0s 5ms/step - loss: 9210460729507840.0000\n",
            "Epoch 95/100\n",
            "13/13 [==============================] - 0s 5ms/step - loss: 9209061643911168.0000\n",
            "Epoch 96/100\n",
            "13/13 [==============================] - 0s 5ms/step - loss: 9207620682383360.0000\n",
            "Epoch 97/100\n",
            "13/13 [==============================] - 0s 4ms/step - loss: 9206181868339200.0000\n",
            "Epoch 98/100\n",
            "13/13 [==============================] - 0s 4ms/step - loss: 9204679703527424.0000\n",
            "Epoch 99/100\n",
            "13/13 [==============================] - 0s 4ms/step - loss: 9203243036966912.0000\n",
            "Epoch 100/100\n",
            "13/13 [==============================] - 0s 5ms/step - loss: 9201765568217088.0000\n"
          ]
        }
      ]
    },
    {
      "cell_type": "code",
      "source": [
        "y_pred_0=model_0.predict(x_test)"
      ],
      "metadata": {
        "colab": {
          "base_uri": "https://localhost:8080/"
        },
        "id": "L9gskh4dCi9K",
        "outputId": "bc90aeba-5f8a-4962-89fd-c29eff552e96"
      },
      "execution_count": null,
      "outputs": [
        {
          "output_type": "stream",
          "name": "stdout",
          "text": [
            "4/4 [==============================] - 0s 3ms/step\n"
          ]
        }
      ]
    },
    {
      "cell_type": "code",
      "source": [
        "model_0.load_weights('Models/model_0')\n"
      ],
      "metadata": {
        "colab": {
          "base_uri": "https://localhost:8080/"
        },
        "id": "fkoHU-5eyDUr",
        "outputId": "cd0dbf29-a59c-488a-c12d-c206ff98ffd5"
      },
      "execution_count": null,
      "outputs": [
        {
          "output_type": "execute_result",
          "data": {
            "text/plain": [
              "<tensorflow.python.checkpoint.checkpoint.CheckpointLoadStatus at 0x7f2ec1e63fa0>"
            ]
          },
          "metadata": {},
          "execution_count": 99
        }
      ]
    },
    {
      "cell_type": "code",
      "source": [
        "# Defining the function which will be used to plot the data\n",
        "\n",
        "def plot_graph(x_train,y_train,x_test,y_test,y_pred):\n",
        "  plt.plot(x_train,y_train,c='red',label='Train Data')\n",
        "  plt.plot(x_test,y_test,c='blue',label='Test Data')\n",
        "  plt.plot(x_test,y_pred,linestyle='dashed',c='green',label='Pred Data')\n",
        "  plt.legend()"
      ],
      "metadata": {
        "id": "kRlMXuTECJOo"
      },
      "execution_count": null,
      "outputs": []
    },
    {
      "cell_type": "code",
      "source": [
        "# plotting the data obtained from model_0\n",
        "\n",
        "plot_graph(x_train=x_train,\n",
        "           y_train=y_train,\n",
        "           x_test=x_test,\n",
        "           y_test=y_test,\n",
        "           y_pred=y_pred_0)"
      ],
      "metadata": {
        "colab": {
          "base_uri": "https://localhost:8080/",
          "height": 276
        },
        "id": "u1hmoCQVCVtx",
        "outputId": "4df7e7c3-13db-4ff2-ca41-051f6d32be57"
      },
      "execution_count": null,
      "outputs": [
        {
          "output_type": "display_data",
          "data": {
            "text/plain": [
              "<Figure size 432x288 with 1 Axes>"
            ],
            "image/png": "[encoded data removed]"
          },
          "metadata": {
            "needs_background": "light"
          }
        }
      ]
    },
    {
      "cell_type": "code",
      "source": [
        "# Training models with different configurations to get closer to the output\n",
        "\n",
        "tf.random.set_seed(42)\n",
        "\n",
        "# Create the model\n",
        "model_1 = tf.keras.Sequential([\n",
        "    tf.keras.layers.Dense(10,input_shape=[1],activation='relu'),\n",
        "    tf.keras.layers.Dense(1)\n",
        "])\n",
        "\n",
        "# Compile the model\n",
        "model_1.compile(loss=tf.keras.losses.mae,\n",
        "                optimizer=tf.keras.optimizers.Adam(),\n",
        "                metrics=[\"mae\"])\n",
        "\n",
        "# Fit the model\n",
        "history_1=model_1.fit(tf.expand_dims(x_train_normalized,axis=-1),y_train_normalized, epochs=500,verbose=0,\n",
        "            callbacks=[create_tensorboard_callback(\"Trained_Models\", \"Model_1\"),\n",
        "                                   model_cp_create(model_name='model_1')])"
      ],
      "metadata": {
        "colab": {
          "base_uri": "https://localhost:8080/"
        },
        "id": "Yzp3_c64Eloo",
        "outputId": "d4ca232a-fb7c-4a1a-a7b7-51af15ac5875"
      },
      "execution_count": null,
      "outputs": [
        {
          "output_type": "stream",
          "name": "stdout",
          "text": [
            "Saving TensorBoard log files to: Trained_Models/Model_1/20230323-111228\n"
          ]
        }
      ]
    },
    {
      "cell_type": "code",
      "source": [
        "model_1.load_weights('Models/model_1')"
      ],
      "metadata": {
        "colab": {
          "base_uri": "https://localhost:8080/"
        },
        "id": "RnNWLYeTyLpR",
        "outputId": "a5792f24-fe27-4ad2-c75f-8897bae7f72c"
      },
      "execution_count": null,
      "outputs": [
        {
          "output_type": "execute_result",
          "data": {
            "text/plain": [
              "<tensorflow.python.checkpoint.checkpoint.CheckpointLoadStatus at 0x7f2ec1e59760>"
            ]
          },
          "metadata": {},
          "execution_count": 103
        }
      ]
    },
    {
      "cell_type": "code",
      "source": [
        "y_preds_1=model_1.predict(x_test_normalized)"
      ],
      "metadata": {
        "colab": {
          "base_uri": "https://localhost:8080/"
        },
        "id": "gzbbqhCCFZ5G",
        "outputId": "ed820462-24a0-4c86-fad3-073ab03781d2"
      },
      "execution_count": null,
      "outputs": [
        {
          "output_type": "stream",
          "name": "stdout",
          "text": [
            "4/4 [==============================] - 0s 3ms/step\n"
          ]
        }
      ]
    },
    {
      "cell_type": "code",
      "source": [
        "# the reason for doing this is to scale the predicted data back to the original state\n",
        "# we multiply the predicted data by the maximum value in the y to scale it\n",
        "\n",
        "y_preds_1_extended=tf.math.multiply(y_preds_1,max_y)"
      ],
      "metadata": {
        "id": "jmZ73CuWGc3o"
      },
      "execution_count": null,
      "outputs": []
    },
    {
      "cell_type": "code",
      "source": [
        "plot_graph(x_train=x_train,\n",
        "           y_train=y_train,\n",
        "           x_test=x_test,\n",
        "           y_test=y_test,\n",
        "           y_pred=y_preds_1_extended)"
      ],
      "metadata": {
        "colab": {
          "base_uri": "https://localhost:8080/",
          "height": 276
        },
        "id": "uTtBedX_GJ8j",
        "outputId": "342ac4ba-9018-48eb-c210-fa54affdb3fd"
      },
      "execution_count": null,
      "outputs": [
        {
          "output_type": "display_data",
          "data": {
            "text/plain": [
              "<Figure size 432x288 with 1 Axes>"
            ],
            "image/png": "[encoded data removed]"
          },
          "metadata": {
            "needs_background": "light"
          }
        }
      ]
    },
    {
      "cell_type": "markdown",
      "source": [
        "**The above graph is a little far away from our output**"
      ],
      "metadata": {
        "id": "LRCc6PTHG9gU"
      }
    },
    {
      "cell_type": "code",
      "source": [
        "# now creating another model\n",
        "\n",
        "tf.random.set_seed(42)\n",
        "\n",
        "# Create the model\n",
        "model_2 = tf.keras.Sequential([\n",
        "    tf.keras.layers.Dense(100,input_shape=[1],activation='relu'),\n",
        "    tf.keras.layers.Dense(10,activation='relu'),\n",
        "    tf.keras.layers.Dense(1)\n",
        "])\n",
        "\n",
        "# Compile the model\n",
        "model_2.compile(loss=tf.keras.losses.mae,\n",
        "                optimizer=tf.keras.optimizers.Adam(),\n",
        "                metrics=[\"mae\"])\n",
        "\n",
        "# Fit the model\n",
        "history_2=model_2.fit(tf.expand_dims(x_train_normalized,axis=-1),y_train_normalized, epochs=500,verbose=0,\n",
        "            callbacks=[create_tensorboard_callback(\"Trained_Models\", \"Model_2\"),\n",
        "                                   model_cp_create(model_name='model_2')])"
      ],
      "metadata": {
        "colab": {
          "base_uri": "https://localhost:8080/"
        },
        "id": "bvq7uQVSHNgK",
        "outputId": "307b1d51-04aa-4477-a417-25a78c1dd11e"
      },
      "execution_count": null,
      "outputs": [
        {
          "output_type": "stream",
          "name": "stdout",
          "text": [
            "Saving TensorBoard log files to: Trained_Models/Model_2/20230323-111249\n"
          ]
        }
      ]
    },
    {
      "cell_type": "code",
      "source": [
        "model_2.load_weights('Models/model_2')"
      ],
      "metadata": {
        "colab": {
          "base_uri": "https://localhost:8080/"
        },
        "id": "ZKKLXXMgyPnP",
        "outputId": "9e90d42c-6c76-4df9-c085-2c1ac5b6e8e8"
      },
      "execution_count": null,
      "outputs": [
        {
          "output_type": "execute_result",
          "data": {
            "text/plain": [
              "<tensorflow.python.checkpoint.checkpoint.CheckpointLoadStatus at 0x7f2ec1a72550>"
            ]
          },
          "metadata": {},
          "execution_count": 108
        }
      ]
    },
    {
      "cell_type": "code",
      "source": [
        "y_preds_2=model_2.predict(x_test_normalized)"
      ],
      "metadata": {
        "colab": {
          "base_uri": "https://localhost:8080/"
        },
        "id": "U5EDHTqsH4ES",
        "outputId": "e1dda42f-bf1a-432c-b248-84ebff59395b"
      },
      "execution_count": null,
      "outputs": [
        {
          "output_type": "stream",
          "name": "stdout",
          "text": [
            "4/4 [==============================] - 0s 2ms/step\n"
          ]
        }
      ]
    },
    {
      "cell_type": "code",
      "source": [
        "y_preds_2_extended=tf.math.multiply(y_preds_2,max_y)"
      ],
      "metadata": {
        "id": "CmKAtxfrH_8p"
      },
      "execution_count": null,
      "outputs": []
    },
    {
      "cell_type": "code",
      "source": [
        "plot_graph(x_train=x_train,\n",
        "           y_train=y_train,\n",
        "           x_test=x_test,\n",
        "           y_test=y_test,\n",
        "           y_pred=y_preds_2_extended)"
      ],
      "metadata": {
        "colab": {
          "base_uri": "https://localhost:8080/",
          "height": 276
        },
        "id": "Cz1iUt6MILcV",
        "outputId": "c203ef7c-7980-43c5-962b-d618f3fa3c38"
      },
      "execution_count": null,
      "outputs": [
        {
          "output_type": "display_data",
          "data": {
            "text/plain": [
              "<Figure size 432x288 with 1 Axes>"
            ],
            "image/png": "[encoded data removed]"
          },
          "metadata": {
            "needs_background": "light"
          }
        }
      ]
    },
    {
      "cell_type": "markdown",
      "source": [
        "**We need to further improve the model**"
      ],
      "metadata": {
        "id": "5iAaV10LIUP3"
      }
    },
    {
      "cell_type": "code",
      "source": [
        "# Now, training the model based on the normalized data\n",
        "\n",
        "tf.random.set_seed(42)\n",
        "\n",
        "model_3 = tf.keras.Sequential([\n",
        "    tf.keras.layers.Dense(128,input_shape=[1],activation='relu'),\n",
        "    tf.keras.layers.Dense(64,activation='relu'),\n",
        "    tf.keras.layers.Dense(32,activation='relu'),\n",
        "    tf.keras.layers.Dense(1)\n",
        "])\n",
        "\n",
        "# Compile the model\n",
        "model_3.compile(loss=tf.keras.losses.mae,\n",
        "                optimizer=tf.keras.optimizers.Adam(),\n",
        "                metrics=[\"mae\"])\n",
        "\n",
        "# Fit the model\n",
        "history_3=model_3.fit(tf.expand_dims(x_train_normalized,axis=-1),y_train_normalized, epochs=500,verbose=0,\n",
        "            callbacks=[create_tensorboard_callback(\"Trained_Models\", \"Model_3\"),\n",
        "                                   model_cp_create(model_name='model_3')])"
      ],
      "metadata": {
        "id": "L5BNGfiHPYXI",
        "colab": {
          "base_uri": "https://localhost:8080/"
        },
        "outputId": "9df804b2-e96d-417b-b6f4-14e684bb06e1"
      },
      "execution_count": null,
      "outputs": [
        {
          "output_type": "stream",
          "name": "stdout",
          "text": [
            "Saving TensorBoard log files to: Trained_Models/Model_3/20230323-111310\n"
          ]
        }
      ]
    },
    {
      "cell_type": "code",
      "source": [
        "model_3.load_weights('Models/model_3')"
      ],
      "metadata": {
        "colab": {
          "base_uri": "https://localhost:8080/"
        },
        "id": "Tak0vk0zyUZC",
        "outputId": "06ab87d4-6c47-442e-bb42-da5066fb2e68"
      },
      "execution_count": null,
      "outputs": [
        {
          "output_type": "execute_result",
          "data": {
            "text/plain": [
              "<tensorflow.python.checkpoint.checkpoint.CheckpointLoadStatus at 0x7f2eac27e160>"
            ]
          },
          "metadata": {},
          "execution_count": 113
        }
      ]
    },
    {
      "cell_type": "code",
      "source": [
        "y_preds_3=model_3.predict(x_test_normalized)\n",
        "y_preds_3_extended=tf.math.multiply(y_preds_3,max_y)"
      ],
      "metadata": {
        "colab": {
          "base_uri": "https://localhost:8080/"
        },
        "id": "FEd3o9U0K4Uj",
        "outputId": "138d8f9a-56be-4a26-f4da-4a1c376a0d28"
      },
      "execution_count": null,
      "outputs": [
        {
          "output_type": "stream",
          "name": "stdout",
          "text": [
            "4/4 [==============================] - 0s 2ms/step\n"
          ]
        }
      ]
    },
    {
      "cell_type": "code",
      "source": [
        "plot_graph(x_train=x_train,\n",
        "           y_train=y_train,\n",
        "           x_test=x_test,\n",
        "           y_test=y_test,\n",
        "           y_pred=y_preds_3_extended)"
      ],
      "metadata": {
        "colab": {
          "base_uri": "https://localhost:8080/",
          "height": 276
        },
        "id": "oKmbhBZbLIm2",
        "outputId": "5bfa1d44-5cff-4a76-b3b4-ef53fd79dc6a"
      },
      "execution_count": null,
      "outputs": [
        {
          "output_type": "display_data",
          "data": {
            "text/plain": [
              "<Figure size 432x288 with 1 Axes>"
            ],
            "image/png": "[encoded data removed]"
          },
          "metadata": {
            "needs_background": "light"
          }
        }
      ]
    },
    {
      "cell_type": "code",
      "source": [
        "# Now, training the model based on the normalized data\n",
        "\n",
        "tf.random.set_seed(42)\n",
        "\n",
        "model_4 = tf.keras.Sequential([\n",
        "    tf.keras.layers.Dense(256,input_shape=[1],activation='relu'),\n",
        "    tf.keras.layers.Dense(128,activation='relu'),\n",
        "    tf.keras.layers.Dense(64,activation='relu'),\n",
        "    tf.keras.layers.Dense(32,activation='relu'),\n",
        "    tf.keras.layers.Dense(1)\n",
        "])\n",
        "\n",
        "# Compile the model\n",
        "model_4.compile(loss=tf.keras.losses.mae,\n",
        "                optimizer=tf.keras.optimizers.Adam(),\n",
        "                metrics=[\"mae\"])\n",
        "\n",
        "# Fit the model\n",
        "history_4=model_4.fit(tf.expand_dims(x_train_normalized,axis=-1),y_train_normalized, epochs=500,verbose=0,\n",
        "            callbacks=[create_tensorboard_callback(\"Trained_Models\", \"Model_4\"),\n",
        "                                   model_cp_create(model_name='model_4')])"
      ],
      "metadata": {
        "colab": {
          "base_uri": "https://localhost:8080/"
        },
        "id": "TGk3mMTjfa0t",
        "outputId": "8e5900b0-7294-47c4-af93-4993d9b58d1c"
      },
      "execution_count": null,
      "outputs": [
        {
          "output_type": "stream",
          "name": "stdout",
          "text": [
            "Saving TensorBoard log files to: Trained_Models/Model_4/20230323-111332\n"
          ]
        }
      ]
    },
    {
      "cell_type": "code",
      "source": [
        "model_4.load_weights('Models/model_4')"
      ],
      "metadata": {
        "colab": {
          "base_uri": "https://localhost:8080/"
        },
        "id": "ZDtcGfk_yXEC",
        "outputId": "aec7de69-e42a-46a5-ceda-b529283643aa"
      },
      "execution_count": null,
      "outputs": [
        {
          "output_type": "execute_result",
          "data": {
            "text/plain": [
              "<tensorflow.python.checkpoint.checkpoint.CheckpointLoadStatus at 0x7f2ec1d7c430>"
            ]
          },
          "metadata": {},
          "execution_count": 117
        }
      ]
    },
    {
      "cell_type": "code",
      "source": [
        "y_preds_4=model_4.predict(x_test_normalized)"
      ],
      "metadata": {
        "colab": {
          "base_uri": "https://localhost:8080/"
        },
        "id": "CWf4u9VMQazr",
        "outputId": "f6d7ca0b-1586-4536-b30b-24b1afe08cd6"
      },
      "execution_count": null,
      "outputs": [
        {
          "output_type": "stream",
          "name": "stdout",
          "text": [
            "4/4 [==============================] - 0s 2ms/step\n"
          ]
        }
      ]
    },
    {
      "cell_type": "code",
      "source": [
        "y_preds_4_extended = tf.math.multiply(y_preds_4,max_y)"
      ],
      "metadata": {
        "id": "-Xo6njuo_QNI"
      },
      "execution_count": null,
      "outputs": []
    },
    {
      "cell_type": "code",
      "source": [
        "plot_graph(x_train=x_train,\n",
        "           y_train=y_train,\n",
        "           x_test=x_test,\n",
        "           y_test=y_test,\n",
        "           y_pred=y_preds_4_extended)"
      ],
      "metadata": {
        "colab": {
          "base_uri": "https://localhost:8080/",
          "height": 276
        },
        "id": "2PJTSVh8h5wC",
        "outputId": "20a520fb-67c7-4e65-c76b-72e4878b2797"
      },
      "execution_count": null,
      "outputs": [
        {
          "output_type": "display_data",
          "data": {
            "text/plain": [
              "<Figure size 432x288 with 1 Axes>"
            ],
            "image/png": "[encoded data removed]"
          },
          "metadata": {
            "needs_background": "light"
          }
        }
      ]
    },
    {
      "cell_type": "code",
      "source": [
        "# building model 5 by increasing the layers\n",
        "\n",
        "tf.random.set_seed(42)\n",
        "\n",
        "model_5 = tf.keras.Sequential([\n",
        "    tf.keras.layers.Dense(512,input_shape=[1],activation='relu'),\n",
        "    tf.keras.layers.Dense(256,activation='relu'),\n",
        "    tf.keras.layers.Dense(128,activation='relu'),\n",
        "    tf.keras.layers.Dense(64,activation='relu'),\n",
        "    tf.keras.layers.Dense(32,activation='relu'),\n",
        "    tf.keras.layers.Dense(1)\n",
        "])\n",
        "\n",
        "# Compile the model\n",
        "model_5.compile(loss=tf.keras.losses.mae,\n",
        "                optimizer=tf.keras.optimizers.Adam(),\n",
        "                metrics=[\"mae\"])\n",
        "\n",
        "# Fit the model\n",
        "history_5=model_5.fit(tf.expand_dims(x_train_normalized,axis=-1),y_train_normalized, epochs=500,verbose=0,\n",
        "            callbacks=[create_tensorboard_callback(\"Trained_Models\", \"Model_5\"),\n",
        "                                   model_cp_create(model_name='model_5')])"
      ],
      "metadata": {
        "colab": {
          "base_uri": "https://localhost:8080/"
        },
        "id": "eagbRZzMjVh_",
        "outputId": "397543f5-8bec-4cf4-882f-8f5652aed878"
      },
      "execution_count": null,
      "outputs": [
        {
          "output_type": "stream",
          "name": "stdout",
          "text": [
            "Saving TensorBoard log files to: Trained_Models/Model_5/20230323-111415\n"
          ]
        }
      ]
    },
    {
      "cell_type": "code",
      "source": [
        "model_5.load_weights('Models/model_5')"
      ],
      "metadata": {
        "colab": {
          "base_uri": "https://localhost:8080/"
        },
        "id": "xtsmdNWjybI-",
        "outputId": "ed8efb0d-77aa-429a-ed49-6cf9b715952e"
      },
      "execution_count": null,
      "outputs": [
        {
          "output_type": "execute_result",
          "data": {
            "text/plain": [
              "<tensorflow.python.checkpoint.checkpoint.CheckpointLoadStatus at 0x7f2eac129190>"
            ]
          },
          "metadata": {},
          "execution_count": 122
        }
      ]
    },
    {
      "cell_type": "code",
      "source": [
        "y_preds_5=model_5.predict(x_test_normalized)\n",
        "y_preds_5_extended=tf.math.multiply(y_preds_5,max_y)\n",
        "\n",
        "# now plotting the graph we get\n",
        "\n",
        "plot_graph(x_train=x_train,\n",
        "           y_train=y_train,\n",
        "           x_test=x_test,\n",
        "           y_test=y_test,\n",
        "           y_pred=y_preds_5_extended)"
      ],
      "metadata": {
        "colab": {
          "base_uri": "https://localhost:8080/",
          "height": 293
        },
        "id": "s8D7pniPjwYH",
        "outputId": "fbb83ca0-e584-4946-f6e0-8974952d5e16"
      },
      "execution_count": null,
      "outputs": [
        {
          "output_type": "stream",
          "name": "stdout",
          "text": [
            "4/4 [==============================] - 0s 4ms/step\n"
          ]
        },
        {
          "output_type": "display_data",
          "data": {
            "text/plain": [
              "<Figure size 432x288 with 1 Axes>"
            ],
            "image/png": "[encoded data removed]"
          },
          "metadata": {
            "needs_background": "light"
          }
        }
      ]
    },
    {
      "cell_type": "code",
      "source": [
        "# we have got closer to our required output\n",
        "\n",
        "# model_6\n",
        "\n",
        "tf.random.set_seed(42)\n",
        "\n",
        "model_6 = tf.keras.Sequential([\n",
        "    tf.keras.layers.Dense(512,input_shape=[1],activation='relu'),\n",
        "    tf.keras.layers.Dense(256,activation='relu'),\n",
        "    tf.keras.layers.Dense(128,activation='relu'),\n",
        "    tf.keras.layers.Dense(64,activation='relu'),\n",
        "    tf.keras.layers.Dense(32,activation='relu'),\n",
        "    tf.keras.layers.Dense(16,activation='relu'),\n",
        "    tf.keras.layers.Dense(1)\n",
        "])\n",
        "\n",
        "# Compile the model\n",
        "model_6.compile(loss=tf.keras.losses.mae,\n",
        "                optimizer=tf.keras.optimizers.Adam(),\n",
        "                metrics=[\"mae\"])\n",
        "\n",
        "# Fit the model\n",
        "history_6=model_6.fit(tf.expand_dims(x_train_normalized,axis=-1),y_train_normalized, epochs=1000,verbose=0,\n",
        "            callbacks=[create_tensorboard_callback(\"Trained_Models\", \"Model_6\"),\n",
        "                                   model_cp_create(model_name='model_6')])"
      ],
      "metadata": {
        "colab": {
          "base_uri": "https://localhost:8080/"
        },
        "id": "IVnsd3ibjryP",
        "outputId": "d7668a48-1756-4e8a-e77e-b41c115fe91b"
      },
      "execution_count": null,
      "outputs": [
        {
          "output_type": "stream",
          "name": "stdout",
          "text": [
            "Saving TensorBoard log files to: Trained_Models/Model_6/20230323-111457\n"
          ]
        }
      ]
    },
    {
      "cell_type": "code",
      "source": [
        "model_6.load_weights('Models/model_6')"
      ],
      "metadata": {
        "colab": {
          "base_uri": "https://localhost:8080/"
        },
        "id": "DuZjrhIiyeVo",
        "outputId": "ddc6b8da-fbce-4034-f7e4-2ed57ae8814d"
      },
      "execution_count": null,
      "outputs": [
        {
          "output_type": "execute_result",
          "data": {
            "text/plain": [
              "<tensorflow.python.checkpoint.checkpoint.CheckpointLoadStatus at 0x7f2fdad0de50>"
            ]
          },
          "metadata": {},
          "execution_count": 125
        }
      ]
    },
    {
      "cell_type": "code",
      "source": [
        "y_preds_6=model_6.predict(x_test_normalized)\n",
        "y_preds_6_extended=tf.math.multiply(y_preds_6,max_y)\n",
        "\n",
        "# now plotting the graph we get\n",
        "\n",
        "plot_graph(x_train=x_train,\n",
        "           y_train=y_train,\n",
        "           x_test=x_test,\n",
        "           y_test=y_test,\n",
        "           y_pred=y_preds_6_extended)"
      ],
      "metadata": {
        "colab": {
          "base_uri": "https://localhost:8080/",
          "height": 293
        },
        "id": "UbZRD2EuAVew",
        "outputId": "9eda52aa-fccb-4b55-d2d3-cc53918404c9"
      },
      "execution_count": null,
      "outputs": [
        {
          "output_type": "stream",
          "name": "stdout",
          "text": [
            "4/4 [==============================] - 0s 2ms/step\n"
          ]
        },
        {
          "output_type": "display_data",
          "data": {
            "text/plain": [
              "<Figure size 432x288 with 1 Axes>"
            ],
            "image/png": "[encoded data removed]"
          },
          "metadata": {
            "needs_background": "light"
          }
        }
      ]
    },
    {
      "cell_type": "code",
      "source": [
        "# changing the activation function\n",
        "\n",
        "tf.random.set_seed(42)\n",
        "\n",
        "model_7 = tf.keras.Sequential([\n",
        "    tf.keras.layers.Dense(512,input_shape=[1],activation='tanh'),\n",
        "    tf.keras.layers.Dense(256,activation='tanh'),\n",
        "    tf.keras.layers.Dense(128,activation='tanh'),\n",
        "    tf.keras.layers.Dense(64,activation='tanh'),\n",
        "    tf.keras.layers.Dense(32,activation='tanh'),\n",
        "    tf.keras.layers.Dense(16,activation='tanh'),\n",
        "    tf.keras.layers.Dense(1)\n",
        "])\n",
        "\n",
        "# Compile the model\n",
        "model_7.compile(loss=tf.keras.losses.mae,\n",
        "                optimizer=tf.keras.optimizers.SGD(),\n",
        "                metrics=[\"mae\"])\n",
        "\n",
        "# Fit the model\n",
        "history_7=model_7.fit(tf.expand_dims(x_train_normalized,axis=-1),y_train_normalized, epochs=1000,verbose=0,\n",
        "            callbacks=[create_tensorboard_callback(\"Trained_Models\", \"Model_7\"),\n",
        "                                   model_cp_create(model_name='model_7')])"
      ],
      "metadata": {
        "colab": {
          "base_uri": "https://localhost:8080/"
        },
        "id": "E3rXNf0UmvdZ",
        "outputId": "acf5fe88-aff0-446f-e3b5-6b3e11b335d8"
      },
      "execution_count": null,
      "outputs": [
        {
          "output_type": "stream",
          "name": "stdout",
          "text": [
            "Saving TensorBoard log files to: Trained_Models/Model_7/20230323-111547\n"
          ]
        }
      ]
    },
    {
      "cell_type": "code",
      "source": [
        "model_7.load_weights('Models/model_7')"
      ],
      "metadata": {
        "colab": {
          "base_uri": "https://localhost:8080/"
        },
        "id": "ofdE1ne9yhZs",
        "outputId": "7321d37b-fd9a-4b24-feda-ed21c93396ef"
      },
      "execution_count": null,
      "outputs": [
        {
          "output_type": "execute_result",
          "data": {
            "text/plain": [
              "<tensorflow.python.checkpoint.checkpoint.CheckpointLoadStatus at 0x7f2fdac8ec10>"
            ]
          },
          "metadata": {},
          "execution_count": 128
        }
      ]
    },
    {
      "cell_type": "code",
      "source": [
        "y_preds_7=model_7.predict(x_test_normalized)\n",
        "y_preds_7_extended=tf.math.multiply(y_preds_7,max_y)\n",
        "\n",
        "# now plotting the graph we get\n",
        "\n",
        "plot_graph(x_train=x_train,\n",
        "           y_train=y_train,\n",
        "           x_test=x_test,\n",
        "           y_test=y_test,\n",
        "           y_pred=y_preds_7_extended)"
      ],
      "metadata": {
        "colab": {
          "base_uri": "https://localhost:8080/",
          "height": 293
        },
        "id": "rMFJymt-nGCa",
        "outputId": "ba030cd1-6409-41ca-b0fe-086db76c1d80"
      },
      "execution_count": null,
      "outputs": [
        {
          "output_type": "stream",
          "name": "stdout",
          "text": [
            "4/4 [==============================] - 0s 3ms/step\n"
          ]
        },
        {
          "output_type": "display_data",
          "data": {
            "text/plain": [
              "<Figure size 432x288 with 1 Axes>"
            ],
            "image/png": "[encoded data removed]"
          },
          "metadata": {
            "needs_background": "light"
          }
        }
      ]
    },
    {
      "cell_type": "code",
      "source": [
        "model_7.evaluate(x_test_normalized,y_test_normalized)"
      ],
      "metadata": {
        "colab": {
          "base_uri": "https://localhost:8080/"
        },
        "id": "AkZpx7FSpEH2",
        "outputId": "30cac524-bb8a-4770-a757-69e491796fdc"
      },
      "execution_count": null,
      "outputs": [
        {
          "output_type": "stream",
          "name": "stdout",
          "text": [
            "4/4 [==============================] - 0s 4ms/step - loss: 0.1673 - mae: 0.1673\n"
          ]
        },
        {
          "output_type": "execute_result",
          "data": {
            "text/plain": [
              "[0.16732670366764069, 0.16732670366764069]"
            ]
          },
          "metadata": {},
          "execution_count": 130
        }
      ]
    },
    {
      "cell_type": "code",
      "source": [
        "# building model_8 ---> changing the activation function\n",
        "\n",
        "tf.random.set_seed(42)\n",
        "\n",
        "# Create the model\n",
        "model_8 = tf.keras.Sequential([\n",
        "    tf.keras.layers.Dense(128,activation='gelu',input_shape=[1]),\n",
        "    tf.keras.layers.Dense(64,activation='gelu'),\n",
        "    tf.keras.layers.Dense(1,activation='linear'),\n",
        "])\n",
        "\n",
        "# Compile the model\n",
        "model_8.compile(loss=tf.keras.losses.mae,\n",
        "                optimizer=tf.keras.optimizers.Adam(lr=0.001),\n",
        "                metrics=[\"mae\"])\n",
        "\n",
        "# Fit the model\n",
        "history_8=model_8.fit(tf.expand_dims(x_train_normalized,axis=-1),y_train_normalized, epochs=500,verbose=0,\n",
        "            callbacks=[create_tensorboard_callback(\"Trained_Models\", \"Model_8\"),\n",
        "                                   model_cp_create(model_name='model_8')])"
      ],
      "metadata": {
        "colab": {
          "base_uri": "https://localhost:8080/"
        },
        "id": "WLb_FQ0_CEgL",
        "outputId": "66a79daf-7ff8-45dc-9123-1c9c7ac0ad52"
      },
      "execution_count": null,
      "outputs": [
        {
          "output_type": "stream",
          "name": "stderr",
          "text": [
            "WARNING:absl:`lr` is deprecated, please use `learning_rate` instead, or use the legacy optimizer, e.g.,tf.keras.optimizers.legacy.Adam.\n"
          ]
        },
        {
          "output_type": "stream",
          "name": "stdout",
          "text": [
            "Saving TensorBoard log files to: Trained_Models/Model_8/20230323-111710\n"
          ]
        }
      ]
    },
    {
      "cell_type": "code",
      "source": [
        "model_8.load_weights('Models/model_8')"
      ],
      "metadata": {
        "colab": {
          "base_uri": "https://localhost:8080/"
        },
        "id": "aXM9K1OHyj1m",
        "outputId": "fd4684f0-2089-4675-cd2c-29fd3cda36b3"
      },
      "execution_count": null,
      "outputs": [
        {
          "output_type": "execute_result",
          "data": {
            "text/plain": [
              "<tensorflow.python.checkpoint.checkpoint.CheckpointLoadStatus at 0x7f2fda8e76a0>"
            ]
          },
          "metadata": {},
          "execution_count": 132
        }
      ]
    },
    {
      "cell_type": "code",
      "source": [
        "# getting very close to our output with the activation function 'gelu' in our model\n",
        "# also the layers in this model are less as compared to the one with the relu activation function\n",
        "\n",
        "y_preds_8=model_8.predict(x_test_normalized)\n",
        "y_preds_8_extended=tf.math.multiply(y_preds_8,max_y)\n",
        "\n",
        "# now plotting the graph we get\n",
        "\n",
        "plot_graph(x_train=x_train,\n",
        "           y_train=y_train,\n",
        "           x_test=x_test,\n",
        "           y_test=y_test,\n",
        "           y_pred=y_preds_8_extended)"
      ],
      "metadata": {
        "colab": {
          "base_uri": "https://localhost:8080/",
          "height": 293
        },
        "id": "Ngn6_832YY2w",
        "outputId": "9df4e43c-d4f1-43f2-9c28-7ee4bf8c147c"
      },
      "execution_count": null,
      "outputs": [
        {
          "output_type": "stream",
          "name": "stdout",
          "text": [
            "4/4 [==============================] - 0s 3ms/step\n"
          ]
        },
        {
          "output_type": "display_data",
          "data": {
            "text/plain": [
              "<Figure size 432x288 with 1 Axes>"
            ],
            "image/png": "[encoded data removed]"
          },
          "metadata": {
            "needs_background": "light"
          }
        }
      ]
    },
    {
      "cell_type": "code",
      "source": [
        "model_8.summary()"
      ],
      "metadata": {
        "colab": {
          "base_uri": "https://localhost:8080/"
        },
        "id": "-xHDbdWYZKp2",
        "outputId": "d65ad0e4-88d9-48e5-b3c2-d86a5b051c44"
      },
      "execution_count": null,
      "outputs": [
        {
          "output_type": "stream",
          "name": "stdout",
          "text": [
            "Model: \"sequential_17\"\n",
            "_________________________________________________________________\n",
            " Layer (type)                Output Shape              Param #   \n",
            "=================================================================\n",
            " dense_75 (Dense)            (None, 128)               256       \n",
            "                                                                 \n",
            " dense_76 (Dense)            (None, 64)                8256      \n",
            "                                                                 \n",
            " dense_77 (Dense)            (None, 1)                 65        \n",
            "                                                                 \n",
            "=================================================================\n",
            "Total params: 8,577\n",
            "Trainable params: 8,577\n",
            "Non-trainable params: 0\n",
            "_________________________________________________________________\n"
          ]
        }
      ]
    },
    {
      "cell_type": "code",
      "source": [
        "# Visualizing the trained results on tensorboard\n",
        "\n",
        "!tensorboard dev upload --logdir ./Trained_Models/ \\\n",
        "  --name \"Comparing different Models used \" \\\n",
        "  --description \"The models are trained to learn the polynomial given\" \\\n",
        "  --one_shot\n"
      ],
      "metadata": {
        "colab": {
          "base_uri": "https://localhost:8080/"
        },
        "id": "i-cmfiYZ633S",
        "outputId": "864c81ff-6ece-4d93-831e-b29bdcde21c6"
      },
      "execution_count": null,
      "outputs": [
        {
          "output_type": "stream",
          "name": "stdout",
          "text": [
            "2023-03-23 10:03:55.416093: W tensorflow/compiler/xla/stream_executor/platform/default/dso_loader.cc:64] Could not load dynamic library 'libnvinfer.so.7'; dlerror: libnvinfer.so.7: cannot open shared object file: No such file or directory; LD_LIBRARY_PATH: /usr/lib64-nvidia\n",
            "2023-03-23 10:03:55.416189: W tensorflow/compiler/xla/stream_executor/platform/default/dso_loader.cc:64] Could not load dynamic library 'libnvinfer_plugin.so.7'; dlerror: libnvinfer_plugin.so.7: cannot open shared object file: No such file or directory; LD_LIBRARY_PATH: /usr/lib64-nvidia\n",
            "2023-03-23 10:03:55.416208: W tensorflow/compiler/tf2tensorrt/utils/py_utils.cc:38] TF-TRT Warning: Cannot dlopen some TensorRT libraries. If you would like to use Nvidia GPU with TensorRT, please make sure the missing libraries mentioned above are installed properly.\n",
            "\n",
            "***** TensorBoard Uploader *****\n",
            "\n",
            "This will upload your TensorBoard logs to https://tensorboard.dev/ from\n",
            "the following directory:\n",
            "\n",
            "./Trained_Models/\n",
            "\n",
            "This TensorBoard will be visible to everyone. Do not upload sensitive\n",
            "data.\n",
            "\n",
            "Your use of this service is subject to Google's Terms of Service\n",
            "<https://policies.google.com/terms> and Privacy Policy\n",
            "<https://policies.google.com/privacy>, and TensorBoard.dev's Terms of Service\n",
            "<https://tensorboard.dev/policy/terms/>.\n",
            "\n",
            "This notice will not be shown again while you are logged into the uploader.\n",
            "To log out, run `tensorboard dev auth revoke`.\n",
            "\n",
            "Continue? (yes/NO) yes\n",
            "\n",
            "To sign in with the TensorBoard uploader:\n",
            "\n",
            "1. On your computer or phone, visit:\n",
            "\n",
            "   https://www.google.com/device\n",
            "\n",
            "2. Sign in with your Google account, then enter:\n",
            "\n",
            "   XYF-TML-NYP\n",
            "\n",
            "\n",
            "\n",
            "New experiment created. View your TensorBoard at: https://tensorboard.dev/experiment/xqJawum7R4WX7gjgHe6QoQ/\n",
            "\n",
            "\u001b[1m[2023-03-23T10:04:25]\u001b[0m Started scanning logdir.\n",
            "\u001b[1m[2023-03-23T10:04:35]\u001b[0m Total uploaded: 10100 scalars, 0 tensors, 6 binary objects (369.4 kB)\n",
            "\u001b[1m[2023-03-23T10:04:35]\u001b[0m Done scanning logdir.\n",
            "\n",
            "\n",
            "Done. View your TensorBoard at https://tensorboard.dev/experiment/xqJawum7R4WX7gjgHe6QoQ/\n"
          ]
        }
      ]
    },
    {
      "cell_type": "markdown",
      "source": [
        "The tensorboard link is [https://tensorboard.dev/experiment/xqJawum7R4WX7gjgHe6QoQ/](https://tensorboard.dev/experiment/xqJawum7R4WX7gjgHe6QoQ/)"
      ],
      "metadata": {
        "id": "Pbm9DZFT7XzM"
      }
    },
    {
      "cell_type": "code",
      "source": [
        "def plot_curves(model_history):\n",
        "  loss=model_history.history['loss']\n",
        "  epochs=range(len(model_history.history['loss']))\n",
        "  plt.plot(epochs,loss,c='orange')\n",
        "  plt.xlabel('Epochs')\n",
        "  plt.ylabel('Loss')"
      ],
      "metadata": {
        "id": "0O-iHDpp78k2"
      },
      "execution_count": null,
      "outputs": []
    },
    {
      "cell_type": "code",
      "source": [
        "# Loss curves of some models :"
      ],
      "metadata": {
        "id": "mhgeU79uMcbQ"
      },
      "execution_count": null,
      "outputs": []
    },
    {
      "cell_type": "code",
      "source": [
        "plot_curves(histroy_0)"
      ],
      "metadata": {
        "colab": {
          "base_uri": "https://localhost:8080/",
          "height": 290
        },
        "id": "ExEtkyMXMKKO",
        "outputId": "217c5eeb-8f8a-4745-9dae-932847bdce72"
      },
      "execution_count": null,
      "outputs": [
        {
          "output_type": "display_data",
          "data": {
            "text/plain": [
              "<Figure size 432x288 with 1 Axes>"
            ],
            "image/png": "[encoded data removed]"
          },
          "metadata": {
            "needs_background": "light"
          }
        }
      ]
    },
    {
      "cell_type": "code",
      "source": [
        "plot_curves(history_1)"
      ],
      "metadata": {
        "colab": {
          "base_uri": "https://localhost:8080/",
          "height": 279
        },
        "id": "WqaV8SsdMQh6",
        "outputId": "23408f3e-994b-4eb5-f3fd-686be3ca4ca6"
      },
      "execution_count": null,
      "outputs": [
        {
          "output_type": "display_data",
          "data": {
            "text/plain": [
              "<Figure size 432x288 with 1 Axes>"
            ],
            "image/png": "[encoded data removed]"
          },
          "metadata": {
            "needs_background": "light"
          }
        }
      ]
    },
    {
      "cell_type": "code",
      "source": [
        "plot_curves(history_2)"
      ],
      "metadata": {
        "colab": {
          "base_uri": "https://localhost:8080/",
          "height": 279
        },
        "id": "Wmlk09LNMUA5",
        "outputId": "bbf3f905-0b96-46c7-9069-7d19a1c82091"
      },
      "execution_count": null,
      "outputs": [
        {
          "output_type": "display_data",
          "data": {
            "text/plain": [
              "<Figure size 432x288 with 1 Axes>"
            ],
            "image/png": "[encoded data removed]"
          },
          "metadata": {
            "needs_background": "light"
          }
        }
      ]
    },
    {
      "cell_type": "code",
      "source": [
        "plot_curves(history_3)"
      ],
      "metadata": {
        "colab": {
          "base_uri": "https://localhost:8080/",
          "height": 281
        },
        "id": "1IipQkBVMX9p",
        "outputId": "4166d326-2075-41f7-9dfb-ab2459e9e650"
      },
      "execution_count": null,
      "outputs": [
        {
          "output_type": "display_data",
          "data": {
            "text/plain": [
              "<Figure size 432x288 with 1 Axes>"
            ],
            "image/png": "[encoded data removed]"
          },
          "metadata": {
            "needs_background": "light"
          }
        }
      ]
    },
    {
      "cell_type": "code",
      "source": [
        "plot_curves(history_7)"
      ],
      "metadata": {
        "colab": {
          "base_uri": "https://localhost:8080/",
          "height": 279
        },
        "id": "a5Z-fitvMgyj",
        "outputId": "0867d64f-b92a-413c-f500-0b1dbe067804"
      },
      "execution_count": null,
      "outputs": [
        {
          "output_type": "display_data",
          "data": {
            "text/plain": [
              "<Figure size 432x288 with 1 Axes>"
            ],
            "image/png": "[encoded data removed]"
          },
          "metadata": {
            "needs_background": "light"
          }
        }
      ]
    },
    {
      "cell_type": "code",
      "source": [
        "plot_curves(history_8)"
      ],
      "metadata": {
        "colab": {
          "base_uri": "https://localhost:8080/",
          "height": 279
        },
        "id": "WNVL4PaCMjuP",
        "outputId": "db1382e7-c5e3-498b-d749-f156f357f8b9"
      },
      "execution_count": null,
      "outputs": [
        {
          "output_type": "display_data",
          "data": {
            "text/plain": [
              "<Figure size 432x288 with 1 Axes>"
            ],
            "image/png": "[encoded data removed]"
          },
          "metadata": {
            "needs_background": "light"
          }
        }
      ]
    },
    {
      "cell_type": "code",
      "source": [
        "!zip -r /content/Trained_Models.zip /content/Trained_Models\n",
        "\n",
        "# converting the models folder into zip file and then downloading it\n",
        "!zip -r /content/Models.zip /content/Models"
      ],
      "metadata": {
        "colab": {
          "base_uri": "https://localhost:8080/"
        },
        "id": "shz64Qvc_o6n",
        "outputId": "9ef67a00-ce1a-401c-ed3d-cdfdaea4ba9a"
      },
      "execution_count": null,
      "outputs": [
        {
          "output_type": "stream",
          "name": "stdout",
          "text": [
            "  adding: content/Trained_Models/ (stored 0%)\n",
            "  adding: content/Trained_Models/Model_5/ (stored 0%)\n",
            "  adding: content/Trained_Models/Model_5/20230323-095529/ (stored 0%)\n",
            "  adding: content/Trained_Models/Model_5/20230323-095529/train/ (stored 0%)\n",
            "  adding: content/Trained_Models/Model_5/20230323-095529/train/events.out.tfevents.1679565329.f786e632cdab.132.5.v2 (deflated 85%)\n",
            "  adding: content/Trained_Models/Model_6/ (stored 0%)\n",
            "  adding: content/Trained_Models/Model_6/20230323-095605/ (stored 0%)\n",
            "  adding: content/Trained_Models/Model_6/20230323-095605/train/ (stored 0%)\n",
            "  adding: content/Trained_Models/Model_6/20230323-095605/train/events.out.tfevents.1679565365.f786e632cdab.132.6.v2 (deflated 77%)\n",
            "  adding: content/Trained_Models/Model_8/ (stored 0%)\n",
            "  adding: content/Trained_Models/Model_8/20230323-095739/ (stored 0%)\n",
            "  adding: content/Trained_Models/Model_8/20230323-095739/train/ (stored 0%)\n",
            "  adding: content/Trained_Models/Model_8/20230323-095739/train/events.out.tfevents.1679565459.f786e632cdab.132.8.v2 (deflated 77%)\n",
            "  adding: content/Trained_Models/Model_4/ (stored 0%)\n",
            "  adding: content/Trained_Models/Model_4/20230323-095447/ (stored 0%)\n",
            "  adding: content/Trained_Models/Model_4/20230323-095447/train/ (stored 0%)\n",
            "  adding: content/Trained_Models/Model_4/20230323-095447/train/events.out.tfevents.1679565287.f786e632cdab.132.4.v2 (deflated 84%)\n",
            "  adding: content/Trained_Models/Model_0/ (stored 0%)\n",
            "  adding: content/Trained_Models/Model_0/20230323-095258/ (stored 0%)\n",
            "  adding: content/Trained_Models/Model_0/20230323-095258/train/ (stored 0%)\n",
            "  adding: content/Trained_Models/Model_0/20230323-095258/train/events.out.tfevents.1679565178.f786e632cdab.132.0.v2 (deflated 85%)\n",
            "  adding: content/Trained_Models/Model_1/ (stored 0%)\n",
            "  adding: content/Trained_Models/Model_1/20230323-095310/ (stored 0%)\n",
            "  adding: content/Trained_Models/Model_1/20230323-095310/train/ (stored 0%)\n",
            "  adding: content/Trained_Models/Model_1/20230323-095310/train/events.out.tfevents.1679565190.f786e632cdab.132.1.v2 (deflated 81%)\n",
            "  adding: content/Trained_Models/Model_7/ (stored 0%)\n",
            "  adding: content/Trained_Models/Model_7/20230323-095653/ (stored 0%)\n",
            "  adding: content/Trained_Models/Model_7/20230323-095653/train/ (stored 0%)\n",
            "  adding: content/Trained_Models/Model_7/20230323-095653/train/events.out.tfevents.1679565413.f786e632cdab.132.7.v2 (deflated 77%)\n",
            "  adding: content/Trained_Models/Model_2/ (stored 0%)\n",
            "  adding: content/Trained_Models/Model_2/20230323-095341/ (stored 0%)\n",
            "  adding: content/Trained_Models/Model_2/20230323-095341/train/ (stored 0%)\n",
            "  adding: content/Trained_Models/Model_2/20230323-095341/train/events.out.tfevents.1679565221.f786e632cdab.132.2.v2 (deflated 82%)\n",
            "  adding: content/Trained_Models/Model_3/ (stored 0%)\n",
            "  adding: content/Trained_Models/Model_3/20230323-095413/ (stored 0%)\n",
            "  adding: content/Trained_Models/Model_3/20230323-095413/train/ (stored 0%)\n",
            "  adding: content/Trained_Models/Model_3/20230323-095413/train/events.out.tfevents.1679565253.f786e632cdab.132.3.v2 (deflated 83%)\n",
            "  adding: content/Models/ (stored 0%)\n",
            "  adding: content/Models/model_3.index (deflated 61%)\n",
            "  adding: content/Models/model_1.data-00000-of-00001 (deflated 62%)\n",
            "  adding: content/Models/model_6.index (deflated 65%)\n",
            "  adding: content/Models/model_8.index (deflated 59%)\n",
            "  adding: content/Models/model_0.data-00000-of-00001 (deflated 60%)\n",
            "  adding: content/Models/model_8.data-00000-of-00001 (deflated 7%)\n",
            "  adding: content/Models/model_5.data-00000-of-00001 (deflated 51%)\n",
            "  adding: content/Models/model_4.data-00000-of-00001 (deflated 44%)\n",
            "  adding: content/Models/model_2.data-00000-of-00001 (deflated 41%)\n",
            "  adding: content/Models/model_4.index (deflated 63%)\n",
            "  adding: content/Models/model_6.data-00000-of-00001 (deflated 49%)\n",
            "  adding: content/Models/model_7.index (deflated 61%)\n",
            "  adding: content/Models/model_7.data-00000-of-00001 (deflated 8%)\n",
            "  adding: content/Models/checkpoint (deflated 41%)\n",
            "  adding: content/Models/model_0.index (deflated 55%)\n",
            "  adding: content/Models/model_3.data-00000-of-00001 (deflated 47%)\n",
            "  adding: content/Models/model_1.index (deflated 55%)\n",
            "  adding: content/Models/model_5.index (deflated 64%)\n",
            "  adding: content/Models/model_2.index (deflated 58%)\n"
          ]
        }
      ]
    },
    {
      "cell_type": "code",
      "source": [
        "# Saving the models individually in separate folders\n",
        "\n",
        "save_dir='model_0'\n",
        "model_0.save(save_dir)\n",
        "\n",
        "save_dir='model_1'\n",
        "model_1.save(save_dir)\n",
        "\n",
        "save_dir = \"model_2\"\n",
        "model_2.save(save_dir)\n",
        "\n",
        "save_dir = \"model_3\"\n",
        "model_3.save(save_dir)\n",
        "\n",
        "save_dir = \"model_4\"\n",
        "model_4.save(save_dir)\n",
        "\n",
        "save_dir = \"model_5\"\n",
        "model_5.save(save_dir)\n",
        "\n",
        "save_dir = \"model_6\"\n",
        "model_6.save(save_dir)\n",
        "\n",
        "save_dir = \"model_7\"\n",
        "model_7.save(save_dir)\n",
        "\n",
        "save_dir='model_8'\n",
        "model_8.save(save_dir)\n"
      ],
      "metadata": {
        "id": "92yiT80kBmLv"
      },
      "execution_count": null,
      "outputs": []
    },
    {
      "cell_type": "code",
      "source": [
        "# Converting all the models into zip file and then downloading them\n",
        "\n",
        "!zip -r /content/model_1.zip /content/model_0\n",
        "!zip -r /content/model_1.zip /content/model_1\n",
        "!zip -r /content/model_2.zip /content/model_2\n",
        "!zip -r /content/model_3.zip /content/model_3\n",
        "!zip -r /content/model_4.zip /content/model_4\n",
        "!zip -r /content/model_5.zip /content/model_5\n",
        "!zip -r /content/model_6.zip /content/model_6\n",
        "!zip -r /content/model_7.zip /content/model_7\n",
        "!zip -r /content/model_8.zip /content/model_8\n",
        "\n"
      ],
      "metadata": {
        "colab": {
          "base_uri": "https://localhost:8080/"
        },
        "id": "bI8nYC2aIgzy",
        "outputId": "60e3b0e1-cc45-4803-e8f6-5fdde678fb02"
      },
      "execution_count": null,
      "outputs": [
        {
          "output_type": "stream",
          "name": "stdout",
          "text": [
            "  adding: content/model_0/ (stored 0%)\n",
            "  adding: content/model_0/saved_model.pb (deflated 87%)\n",
            "  adding: content/model_0/fingerprint.pb (stored 0%)\n",
            "  adding: content/model_0/assets/ (stored 0%)\n",
            "  adding: content/model_0/variables/ (stored 0%)\n",
            "  adding: content/model_0/variables/variables.data-00000-of-00001 (deflated 68%)\n",
            "  adding: content/model_0/variables/variables.index (deflated 55%)\n",
            "  adding: content/model_0/keras_metadata.pb (deflated 84%)\n",
            "  adding: content/model_1/ (stored 0%)\n",
            "  adding: content/model_1/saved_model.pb (deflated 87%)\n",
            "  adding: content/model_1/fingerprint.pb (stored 0%)\n",
            "  adding: content/model_1/assets/ (stored 0%)\n",
            "  adding: content/model_1/variables/ (stored 0%)\n",
            "  adding: content/model_1/variables/variables.data-00000-of-00001 (deflated 70%)\n",
            "  adding: content/model_1/variables/variables.index (deflated 58%)\n",
            "  adding: content/model_1/keras_metadata.pb (deflated 83%)\n",
            "  adding: content/model_2/ (stored 0%)\n",
            "  adding: content/model_2/saved_model.pb (deflated 88%)\n",
            "  adding: content/model_2/fingerprint.pb (stored 0%)\n",
            "  adding: content/model_2/assets/ (stored 0%)\n",
            "  adding: content/model_2/variables/ (stored 0%)\n",
            "  adding: content/model_2/variables/variables.data-00000-of-00001 (deflated 47%)\n",
            "  adding: content/model_2/variables/variables.index (deflated 60%)\n",
            "  adding: content/model_2/keras_metadata.pb (deflated 86%)\n",
            "  adding: content/model_3/ (stored 0%)\n",
            "  adding: content/model_3/saved_model.pb (deflated 88%)\n",
            "  adding: content/model_3/fingerprint.pb (stored 0%)\n",
            "  adding: content/model_3/assets/ (stored 0%)\n",
            "  adding: content/model_3/variables/ (stored 0%)\n",
            "  adding: content/model_3/variables/variables.data-00000-of-00001 (deflated 48%)\n",
            "  adding: content/model_3/variables/variables.index (deflated 62%)\n",
            "  adding: content/model_3/keras_metadata.pb (deflated 88%)\n",
            "  adding: content/model_4/ (stored 0%)\n",
            "  adding: content/model_4/saved_model.pb (deflated 88%)\n",
            "  adding: content/model_4/fingerprint.pb (stored 0%)\n",
            "  adding: content/model_4/assets/ (stored 0%)\n",
            "  adding: content/model_4/variables/ (stored 0%)\n",
            "  adding: content/model_4/variables/variables.data-00000-of-00001 (deflated 44%)\n",
            "  adding: content/model_4/variables/variables.index (deflated 64%)\n",
            "  adding: content/model_4/keras_metadata.pb (deflated 89%)\n",
            "  adding: content/model_5/ (stored 0%)\n",
            "  adding: content/model_5/saved_model.pb (deflated 88%)\n",
            "  adding: content/model_5/fingerprint.pb (stored 0%)\n",
            "  adding: content/model_5/assets/ (stored 0%)\n",
            "  adding: content/model_5/variables/ (stored 0%)\n",
            "  adding: content/model_5/variables/variables.data-00000-of-00001 (deflated 51%)\n",
            "  adding: content/model_5/variables/variables.index (deflated 64%)\n",
            "  adding: content/model_5/keras_metadata.pb (deflated 90%)\n",
            "  adding: content/model_6/ (stored 0%)\n",
            "  adding: content/model_6/saved_model.pb (deflated 89%)\n",
            "  adding: content/model_6/fingerprint.pb (stored 0%)\n",
            "  adding: content/model_6/assets/ (stored 0%)\n",
            "  adding: content/model_6/variables/ (stored 0%)\n",
            "  adding: content/model_6/variables/variables.data-00000-of-00001 (deflated 49%)\n",
            "  adding: content/model_6/variables/variables.index (deflated 65%)\n",
            "  adding: content/model_6/keras_metadata.pb (deflated 91%)\n",
            "  adding: content/model_7/ (stored 0%)\n",
            "  adding: content/model_7/saved_model.pb (deflated 89%)\n",
            "  adding: content/model_7/fingerprint.pb (stored 0%)\n",
            "  adding: content/model_7/assets/ (stored 0%)\n",
            "  adding: content/model_7/variables/ (stored 0%)\n",
            "  adding: content/model_7/variables/variables.data-00000-of-00001 (deflated 8%)\n",
            "  adding: content/model_7/variables/variables.index (deflated 62%)\n",
            "  adding: content/model_7/keras_metadata.pb (deflated 91%)\n",
            "  adding: content/model_8/ (stored 0%)\n",
            "  adding: content/model_8/saved_model.pb (deflated 88%)\n",
            "  adding: content/model_8/fingerprint.pb (stored 0%)\n",
            "  adding: content/model_8/assets/ (stored 0%)\n",
            "  adding: content/model_8/variables/ (stored 0%)\n",
            "  adding: content/model_8/variables/variables.data-00000-of-00001 (deflated 9%)\n",
            "  adding: content/model_8/variables/variables.index (deflated 60%)\n",
            "  adding: content/model_8/keras_metadata.pb (deflated 86%)\n"
          ]
        }
      ]
    },
    {
      "cell_type": "code",
      "source": [
        "from tensorflow import keras\n",
        "\n",
        "model=keras.models.load_model('model_8')"
      ],
      "metadata": {
        "id": "nh6eJLcqIMP7"
      },
      "execution_count": null,
      "outputs": []
    },
    {
      "cell_type": "code",
      "source": [
        "# predicting a value with the model\n",
        "\n",
        "value=model.predict([100])\n",
        "\n",
        "# now we need to scale this value up\n",
        "\n",
        "new_value=tf.math.multiply(value,max_y)\n",
        "new_value"
      ],
      "metadata": {
        "colab": {
          "base_uri": "https://localhost:8080/"
        },
        "id": "fn4IgvxjIZJL",
        "outputId": "696338d1-9f14-48a3-c5c4-22eb447992e7"
      },
      "execution_count": null,
      "outputs": [
        {
          "output_type": "stream",
          "name": "stdout",
          "text": [
            "1/1 [==============================] - 0s 47ms/step\n"
          ]
        },
        {
          "output_type": "execute_result",
          "data": {
            "text/plain": [
              "<tf.Tensor: shape=(1, 1), dtype=float32, numpy=array([[2.3082205e+11]], dtype=float32)>"
            ]
          },
          "metadata": {},
          "execution_count": 88
        }
      ]
    },
    {
      "cell_type": "code",
      "source": [
        "import zipfile\n",
        "zip_ref = zipfile.ZipFile(\"model_8.zip\", \"r\")\n",
        "zip_ref.extractall()\n",
        "zip_ref.close()"
      ],
      "metadata": {
        "id": "YAloMk4xl6aY"
      },
      "execution_count": null,
      "outputs": []
    },
    {
      "cell_type": "code",
      "source": [
        "from tensorflow import keras\n",
        "\n",
        "model_8=keras.models.load_model('content/model_8')"
      ],
      "metadata": {
        "id": "3krzgIednIpT"
      },
      "execution_count": null,
      "outputs": []
    },
    {
      "cell_type": "code",
      "source": [
        "history_1.history['loss']"
      ],
      "metadata": {
        "id": "uuAu9X6Xn3VK"
      },
      "execution_count": null,
      "outputs": []
    },
    {
      "cell_type": "code",
      "source": [
        "model_8.predict([1])"
      ],
      "metadata": {
        "id": "dA3g5G2Bof46",
        "outputId": "4c16788f-8255-4502-8e2a-105eaad51645",
        "colab": {
          "base_uri": "https://localhost:8080/"
        }
      },
      "execution_count": null,
      "outputs": [
        {
          "output_type": "stream",
          "name": "stdout",
          "text": [
            "1/1 [==============================] - 0s 274ms/step\n"
          ]
        },
        {
          "output_type": "execute_result",
          "data": {
            "text/plain": [
              "array([[0.95585]], dtype=float32)"
            ]
          },
          "metadata": {},
          "execution_count": 23
        }
      ]
    },
    {
      "cell_type": "code",
      "source": [
        "import matplotlib.pyplot as plt\n",
        "\n",
        "x_values = ['Model_1', 'Model_2', 'Model_3', 'Model_4','Model_5','Model_6','Model_7','Model_8']\n",
        "y_values = [model_1.history['loss'], model_2.history['loss'], model_3.history['loss'], model_4.history['loss'],\n",
        "            model_5.history['loss'],model_6.history['loss'],model_7.history['loss'],model_8.history['loss']]\n",
        "\n",
        "# Plot the bar graph\n",
        "plt.bar(x_values, y_values)\n",
        "\n",
        "# Add labels and title\n",
        "plt.xlabel('X-axis Label')\n",
        "plt.ylabel('Y-axis Label')\n",
        "plt.title('Title of the Bar Graph')\n",
        "\n",
        "# Show the plot\n",
        "plt.show()\n"
      ],
      "metadata": {
        "id": "E8p6AJ1Mm68g"
      },
      "execution_count": null,
      "outputs": []
    }
  ]
}